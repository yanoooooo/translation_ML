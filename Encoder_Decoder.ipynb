{
  "nbformat": 4,
  "nbformat_minor": 0,
  "metadata": {
    "colab": {
      "name": "Encoder_Decoder.ipynb",
      "version": "0.3.2",
      "provenance": [],
      "include_colab_link": true
    },
    "kernelspec": {
      "name": "python3",
      "display_name": "Python 3"
    },
    "accelerator": "GPU"
  },
  "cells": [
    {
      "cell_type": "markdown",
      "metadata": {
        "id": "view-in-github",
        "colab_type": "text"
      },
      "source": [
        "<a href=\"https://colab.research.google.com/github/yanoooooo/translation_ML/blob/colab/Encoder_Decoder.ipynb\" target=\"_parent\"><img src=\"https://colab.research.google.com/assets/colab-badge.svg\" alt=\"Open In Colab\"/></a>"
      ]
    },
    {
      "metadata": {
        "id": "s0C2ssdBzSHb",
        "colab_type": "code",
        "colab": {}
      },
      "cell_type": "code",
      "source": [
        "import pandas as pd\n",
        "\n",
        "from google.colab import drive\n",
        "drive.mount('/gdrive')"
      ],
      "execution_count": 0,
      "outputs": []
    },
    {
      "metadata": {
        "id": "81FunFgu0pEh",
        "colab_type": "text"
      },
      "cell_type": "markdown",
      "source": [
        "Variables"
      ]
    },
    {
      "metadata": {
        "id": "a0zwhlUe0l7g",
        "colab_type": "code",
        "colab": {}
      },
      "cell_type": "code",
      "source": [
        "is_debug = True"
      ],
      "execution_count": 0,
      "outputs": []
    },
    {
      "metadata": {
        "id": "jCPQxjjE01gT",
        "colab_type": "text"
      },
      "cell_type": "markdown",
      "source": [
        "Trainning Section"
      ]
    },
    {
      "metadata": {
        "id": "5FMt8U390x7J",
        "colab_type": "code",
        "colab": {}
      },
      "cell_type": "code",
      "source": [
        "def train(ja_file_path, en_file_path):\n",
        "  ja_data = pd.read_csv(ja_file_path)\n",
        "  en_data = pd.read_csv(en_file_path)\n",
        "  \n",
        "  print(ja_data)\n",
        "  print(en_data)"
      ],
      "execution_count": 0,
      "outputs": []
    },
    {
      "metadata": {
        "id": "DZWYfwgrzdRn",
        "colab_type": "text"
      },
      "cell_type": "markdown",
      "source": [
        "Main Function"
      ]
    },
    {
      "metadata": {
        "id": "KOSk3SURzSGv",
        "colab_type": "code",
        "colab": {
          "base_uri": "https://localhost:8080/",
          "height": 125
        },
        "outputId": "08ea6198-e259-4ffd-8395-f988d1e51026"
      },
      "cell_type": "code",
      "source": [
        "if __name__==\"__main__\":\n",
        "  if is_debug:\n",
        "    ja_file_path = '/gdrive/My Drive/Research/LyricsTranslation/NeuralNetwork/translation_ML/data/ja.csv'\n",
        "    en_file_path = '/gdrive/My Drive/Research/LyricsTranslation/NeuralNetwork/translation_ML/data/en.csv'\n",
        "  else:\n",
        "    file_path = '/gdrive/My Drive/DeepLearning/GestureRecognition/data/formatted/train_classification.csv'\n",
        "\n",
        "  train(ja_file_path, en_file_path)"
      ],
      "execution_count": 10,
      "outputs": [
        {
          "output_type": "stream",
          "text": [
            "Empty DataFrame\n",
            "Columns: [あの 地方 に 行く の かい, 2 2 1 2 1 1]\n",
            "Index: []\n",
            "Empty DataFrame\n",
            "Columns: [Are you going to Scarborough Fair, 1 1 2 1 3 1]\n",
            "Index: []\n"
          ],
          "name": "stdout"
        }
      ]
    }
  ]
}